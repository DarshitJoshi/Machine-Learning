{
 "cells": [
  {
   "cell_type": "markdown",
   "id": "66a2743c-7bcf-4144-b5b7-b2e042719989",
   "metadata": {},
   "source": [
    "## Logistic Regression for Multiclass Classification Problem"
   ]
  },
  {
   "cell_type": "code",
   "execution_count": 1,
   "id": "3f15e67d-18be-46f4-9f0f-7a98258bd499",
   "metadata": {},
   "outputs": [],
   "source": [
    "import pandas as pd\n",
    "import numpy as np\n",
    "import matplotlib.pyplot as plt\n",
    "import seaborn as sns\n",
    "%matplotlib inline"
   ]
  },
  {
   "cell_type": "code",
   "execution_count": 2,
   "id": "ca24e48e-e161-49b8-ab35-094439019256",
   "metadata": {},
   "outputs": [],
   "source": [
    "from sklearn.datasets import make_classification  #it will create the dataset in such a way \n",
    "#that we will not have to do standardization"
   ]
  },
  {
   "cell_type": "code",
   "execution_count": 5,
   "id": "0bbf46ec-10c0-4ef6-8219-e009c5373e37",
   "metadata": {},
   "outputs": [],
   "source": [
    "## Create dataset\n",
    "X,y=make_classification(n_samples=1000, n_features = 10,n_informative = 3, n_classes = 3, random_state=15)"
   ]
  },
  {
   "cell_type": "code",
   "execution_count": 6,
   "id": "ae1f2175-d46f-4c63-a295-15dae9b07be8",
   "metadata": {},
   "outputs": [
    {
     "data": {
      "text/plain": [
       "array([[-1.28613186, -0.64833414,  1.04411477, ..., -1.3164116 ,\n",
       "         1.01191003, -0.89806282],\n",
       "       [-0.22222406,  2.083232  ,  1.19111402, ...,  0.98140271,\n",
       "        -1.62879759,  1.37759419],\n",
       "       [-0.43196264,  0.37574543, -1.37033375, ...,  1.2926021 ,\n",
       "         0.925545  ,  0.23270542],\n",
       "       ...,\n",
       "       [-0.16384636, -0.41072503,  0.73908587, ...,  0.55830515,\n",
       "         1.08971786, -0.26627295],\n",
       "       [ 1.74969059, -1.12416838,  0.19980683, ...,  0.75255654,\n",
       "         0.32229436, -0.17334302],\n",
       "       [-0.24755583, -1.1705942 , -1.14058569, ...,  0.2063625 ,\n",
       "         1.84351802, -0.81483138]])"
      ]
     },
     "execution_count": 6,
     "metadata": {},
     "output_type": "execute_result"
    }
   ],
   "source": [
    "X"
   ]
  },
  {
   "cell_type": "code",
   "execution_count": 8,
   "id": "70d19eb8-e386-4f7c-9651-8e71ecf96847",
   "metadata": {},
   "outputs": [
    {
     "data": {
      "text/plain": [
       "array([2, 0, 0, 0, 1, 0, 1, 0, 2, 1, 0, 1, 0, 1, 0, 0, 0, 1, 1, 0, 1, 2,\n",
       "       2, 1, 1, 0, 2, 0, 2, 1, 2, 1, 2, 2, 0, 1, 2, 1, 1, 2, 1, 1, 2, 2,\n",
       "       0, 2, 1, 0, 2, 0, 0, 1, 0, 1, 1, 0, 2, 2, 0, 1, 1, 2, 0, 0, 1, 0,\n",
       "       0, 1, 2, 2, 0, 1, 2, 2, 1, 2, 0, 2, 0, 0, 1, 0, 2, 0, 2, 0, 0, 2,\n",
       "       1, 2, 0, 0, 2, 0, 1, 0, 2, 0, 2, 1, 0, 0, 2, 2, 0, 2, 2, 0, 1, 0,\n",
       "       1, 0, 1, 2, 1, 1, 1, 2, 0, 2, 0, 2, 1, 1, 0, 0, 1, 1, 2, 2, 1, 2,\n",
       "       0, 1, 2, 2, 0, 2, 2, 0, 0, 1, 0, 2, 0, 1, 2, 0, 2, 1, 1, 0, 2, 1,\n",
       "       0, 2, 2, 2, 2, 2, 1, 0, 1, 0, 0, 1, 1, 1, 0, 1, 1, 0, 1, 0, 0, 0,\n",
       "       2, 2, 1, 2, 2, 2, 2, 0, 1, 0, 1, 0, 2, 2, 2, 1, 1, 0, 0, 0, 2, 0,\n",
       "       0, 0, 1, 0, 2, 1, 0, 2, 2, 1, 1, 1, 1, 2, 0, 1, 2, 2, 1, 1, 0, 2,\n",
       "       2, 1, 0, 2, 2, 1, 0, 1, 2, 0, 2, 1, 0, 0, 1, 2, 0, 0, 0, 0, 2, 1,\n",
       "       1, 0, 0, 1, 0, 1, 0, 1, 0, 2, 2, 1, 0, 1, 1, 2, 2, 2, 2, 0, 1, 0,\n",
       "       0, 2, 2, 1, 2, 0, 0, 1, 1, 2, 2, 1, 0, 0, 1, 0, 1, 2, 1, 0, 1, 0,\n",
       "       2, 0, 1, 0, 0, 2, 2, 1, 0, 2, 0, 1, 2, 2, 2, 2, 0, 0, 0, 0, 1, 0,\n",
       "       1, 2, 0, 0, 2, 0, 0, 2, 1, 0, 2, 0, 0, 1, 0, 0, 1, 2, 1, 1, 1, 1,\n",
       "       2, 1, 1, 1, 2, 2, 1, 2, 0, 1, 0, 2, 2, 1, 2, 0, 0, 2, 1, 1, 2, 1,\n",
       "       1, 0, 2, 2, 0, 2, 1, 0, 0, 2, 2, 1, 0, 2, 0, 1, 0, 2, 2, 1, 2, 2,\n",
       "       0, 2, 0, 2, 0, 2, 0, 2, 2, 2, 1, 2, 2, 1, 1, 0, 0, 1, 1, 0, 1, 0,\n",
       "       1, 1, 1, 2, 1, 0, 2, 2, 0, 1, 0, 1, 2, 0, 1, 1, 1, 0, 1, 2, 0, 1,\n",
       "       1, 2, 2, 0, 2, 1, 2, 0, 1, 1, 2, 1, 0, 2, 1, 1, 2, 1, 0, 2, 1, 0,\n",
       "       0, 0, 2, 1, 0, 1, 0, 2, 0, 0, 1, 2, 1, 1, 2, 2, 1, 1, 2, 2, 2, 1,\n",
       "       0, 2, 2, 2, 0, 2, 0, 0, 2, 1, 0, 1, 1, 1, 1, 2, 2, 0, 0, 1, 0, 0,\n",
       "       1, 1, 1, 1, 0, 1, 2, 0, 0, 1, 1, 1, 0, 1, 1, 1, 2, 1, 1, 1, 2, 1,\n",
       "       0, 0, 2, 1, 2, 2, 1, 0, 0, 2, 2, 2, 1, 1, 0, 2, 2, 1, 0, 1, 2, 1,\n",
       "       1, 0, 0, 1, 0, 2, 2, 1, 2, 2, 0, 0, 1, 1, 0, 0, 1, 2, 2, 0, 2, 2,\n",
       "       0, 2, 1, 0, 1, 2, 1, 0, 1, 0, 0, 2, 1, 1, 0, 0, 2, 2, 2, 0, 0, 0,\n",
       "       1, 0, 1, 1, 2, 0, 1, 2, 1, 0, 1, 0, 2, 1, 1, 0, 1, 1, 1, 1, 1, 0,\n",
       "       0, 0, 2, 0, 1, 2, 0, 2, 1, 0, 2, 1, 2, 2, 0, 2, 1, 0, 0, 0, 2, 0,\n",
       "       2, 2, 1, 2, 0, 2, 2, 0, 0, 0, 0, 1, 1, 2, 2, 0, 0, 2, 2, 0, 2, 2,\n",
       "       2, 0, 2, 1, 0, 2, 2, 1, 0, 2, 2, 0, 0, 1, 1, 0, 0, 1, 1, 1, 1, 0,\n",
       "       1, 2, 2, 1, 2, 1, 0, 1, 0, 2, 1, 0, 0, 0, 0, 1, 2, 2, 0, 0, 0, 2,\n",
       "       0, 1, 2, 2, 0, 1, 0, 0, 2, 0, 0, 2, 2, 2, 1, 2, 2, 1, 0, 2, 1, 0,\n",
       "       0, 1, 0, 0, 1, 0, 1, 2, 2, 1, 1, 2, 2, 0, 1, 2, 0, 2, 2, 0, 2, 2,\n",
       "       1, 2, 2, 2, 1, 0, 0, 0, 1, 0, 1, 1, 2, 1, 2, 1, 2, 0, 0, 2, 0, 2,\n",
       "       1, 1, 0, 1, 0, 2, 1, 2, 1, 2, 0, 0, 0, 0, 1, 0, 1, 2, 0, 2, 1, 1,\n",
       "       2, 2, 2, 1, 1, 2, 2, 2, 1, 1, 2, 2, 2, 1, 2, 2, 2, 0, 0, 1, 0, 0,\n",
       "       2, 0, 1, 2, 0, 1, 0, 2, 1, 1, 1, 2, 1, 1, 2, 0, 2, 2, 0, 2, 1, 1,\n",
       "       1, 2, 2, 2, 0, 2, 1, 2, 1, 1, 0, 2, 1, 1, 2, 2, 2, 1, 2, 1, 0, 2,\n",
       "       0, 1, 0, 1, 2, 0, 0, 0, 0, 1, 0, 1, 2, 0, 1, 2, 0, 2, 0, 0, 0, 2,\n",
       "       1, 1, 1, 0, 0, 2, 1, 2, 1, 2, 2, 2, 2, 1, 0, 1, 0, 2, 2, 2, 2, 0,\n",
       "       1, 0, 2, 0, 1, 2, 0, 1, 1, 1, 2, 1, 2, 1, 0, 1, 0, 2, 1, 2, 2, 2,\n",
       "       2, 0, 0, 2, 2, 2, 2, 0, 2, 1, 1, 0, 2, 0, 2, 1, 1, 1, 1, 0, 0, 0,\n",
       "       1, 1, 2, 2, 1, 1, 0, 0, 1, 1, 0, 0, 2, 2, 2, 0, 2, 1, 1, 0, 0, 0,\n",
       "       1, 1, 0, 0, 1, 1, 1, 0, 0, 1, 2, 0, 0, 2, 1, 1, 1, 2, 0, 1, 0, 0,\n",
       "       1, 1, 1, 0, 2, 2, 1, 0, 2, 2, 2, 0, 1, 1, 2, 1, 2, 2, 2, 1, 0, 1,\n",
       "       2, 0, 2, 0, 1, 2, 1, 0, 1, 2])"
      ]
     },
     "execution_count": 8,
     "metadata": {},
     "output_type": "execute_result"
    }
   ],
   "source": [
    "y  #3 output -> 0,1,2"
   ]
  },
  {
   "cell_type": "code",
   "execution_count": 9,
   "id": "c9156a7b-201c-4728-b9ff-fd0525b57706",
   "metadata": {},
   "outputs": [],
   "source": [
    "from sklearn.model_selection import train_test_split\n",
    "X_train,X_test,y_train,y_test=train_test_split(X,y,test_size=0.30,random_state=42)"
   ]
  },
  {
   "cell_type": "code",
   "execution_count": 17,
   "id": "ad49d177-8da6-4e85-891e-e6687d1c5af5",
   "metadata": {},
   "outputs": [
    {
     "name": "stderr",
     "output_type": "stream",
     "text": [
      "C:\\Users\\Darshit joshi\\AppData\\Local\\Programs\\Python\\Python312\\Lib\\site-packages\\sklearn\\linear_model\\_logistic.py:1256: FutureWarning: 'multi_class' was deprecated in version 1.5 and will be removed in 1.7. Use OneVsRestClassifier(LogisticRegression(..)) instead. Leave it to its default value to avoid this warning.\n",
      "  warnings.warn(\n"
     ]
    }
   ],
   "source": [
    "#Model Training\n",
    "from sklearn.linear_model import LogisticRegression\n",
    "logistic = LogisticRegression(multi_class=\"ovr\")\n",
    "logistic.fit(X_train,y_train)\n",
    "y_pred = logistic.predict(X_test)"
   ]
  },
  {
   "cell_type": "code",
   "execution_count": 18,
   "id": "39084dcb-179a-42e7-b929-7a26ab051555",
   "metadata": {},
   "outputs": [
    {
     "data": {
      "text/plain": [
       "array([2, 1, 2, 1, 1, 0, 0, 0, 2, 0, 2, 1, 2, 2, 2, 2, 2, 0, 0, 2, 2, 1,\n",
       "       1, 1, 1, 0, 0, 0, 2, 1, 0, 2, 2, 1, 2, 0, 0, 2, 2, 1, 2, 2, 2, 1,\n",
       "       2, 0, 1, 2, 0, 1, 0, 0, 0, 1, 1, 2, 0, 0, 1, 1, 0, 1, 0, 1, 1, 0,\n",
       "       2, 1, 0, 1, 0, 1, 2, 1, 2, 2, 1, 0, 1, 0, 1, 0, 1, 2, 2, 0, 1, 2,\n",
       "       2, 1, 1, 2, 2, 0, 0, 0, 2, 2, 0, 1, 2, 1, 2, 1, 0, 2, 0, 2, 0, 1,\n",
       "       2, 1, 2, 2, 1, 1, 1, 1, 2, 0, 2, 0, 1, 2, 0, 0, 2, 2, 2, 1, 2, 0,\n",
       "       2, 2, 0, 0, 0, 2, 0, 2, 0, 1, 2, 1, 1, 2, 0, 0, 1, 1, 2, 2, 2, 1,\n",
       "       2, 0, 2, 2, 2, 1, 0, 2, 0, 0, 2, 0, 2, 0, 0, 1, 2, 0, 1, 1, 1, 1,\n",
       "       0, 2, 1, 0, 0, 1, 2, 2, 2, 2, 2, 0, 1, 1, 2, 2, 1, 2, 2, 2, 2, 1,\n",
       "       0, 0, 1, 2, 2, 0, 0, 2, 1, 2, 1, 0, 0, 2, 1, 1, 1, 2, 2, 1, 2, 1,\n",
       "       0, 1, 0, 0, 1, 0, 2, 1, 0, 2, 2, 1, 1, 1, 2, 1, 1, 0, 1, 1, 0, 0,\n",
       "       0, 0, 2, 0, 0, 2, 2, 2, 2, 0, 2, 0, 1, 2, 2, 2, 1, 0, 0, 1, 0, 2,\n",
       "       1, 2, 0, 0, 0, 2, 2, 1, 2, 0, 1, 1, 0, 0, 0, 1, 0, 2, 2, 0, 2, 0,\n",
       "       0, 0, 1, 1, 2, 0, 1, 2, 2, 0, 1, 2, 0, 2])"
      ]
     },
     "execution_count": 18,
     "metadata": {},
     "output_type": "execute_result"
    }
   ],
   "source": [
    "y_pred"
   ]
  },
  {
   "cell_type": "code",
   "execution_count": 20,
   "id": "131e1203-dcab-4428-acb8-54c2d220e71a",
   "metadata": {},
   "outputs": [],
   "source": [
    "## Performance metrics\n",
    "from sklearn.metrics import accuracy_score,confusion_matrix,classification_report"
   ]
  },
  {
   "cell_type": "code",
   "execution_count": 23,
   "id": "26e13f2d-695b-4d78-a861-deef2d04ac4b",
   "metadata": {},
   "outputs": [
    {
     "name": "stdout",
     "output_type": "stream",
     "text": [
      "0.79\n",
      "[[84 10  8]\n",
      " [ 3 74 25]\n",
      " [10  7 79]]\n",
      "              precision    recall  f1-score   support\n",
      "\n",
      "           0       0.87      0.82      0.84       102\n",
      "           1       0.81      0.73      0.77       102\n",
      "           2       0.71      0.82      0.76        96\n",
      "\n",
      "    accuracy                           0.79       300\n",
      "   macro avg       0.79      0.79      0.79       300\n",
      "weighted avg       0.80      0.79      0.79       300\n",
      "\n"
     ]
    }
   ],
   "source": [
    "score = accuracy_score(y_test,y_pred)\n",
    "print(score)\n",
    "cm = confusion_matrix(y_test,y_pred)\n",
    "print(cm)  ##here we gert 3cross3 matrci because o/p features are 3\n",
    "print(classification_report(y_test,y_pred))"
   ]
  },
  {
   "cell_type": "code",
   "execution_count": null,
   "id": "da555775-f72f-479b-bc72-7cc754fc3b26",
   "metadata": {},
   "outputs": [],
   "source": []
  },
  {
   "cell_type": "code",
   "execution_count": null,
   "id": "0b668ad8-008d-4ae8-93ba-b080e8f5865e",
   "metadata": {},
   "outputs": [],
   "source": []
  }
 ],
 "metadata": {
  "kernelspec": {
   "display_name": "Python 3 (ipykernel)",
   "language": "python",
   "name": "python3"
  },
  "language_info": {
   "codemirror_mode": {
    "name": "ipython",
    "version": 3
   },
   "file_extension": ".py",
   "mimetype": "text/x-python",
   "name": "python",
   "nbconvert_exporter": "python",
   "pygments_lexer": "ipython3",
   "version": "3.12.4"
  }
 },
 "nbformat": 4,
 "nbformat_minor": 5
}
